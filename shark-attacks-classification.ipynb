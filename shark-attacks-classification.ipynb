{
 "cells": [
  {
   "cell_type": "markdown",
   "id": "4c3bcd21-448a-4814-9c8f-5dc55f02721c",
   "metadata": {},
   "source": [
    "# Machine Learning (M606B) Final Project"
   ]
  },
  {
   "cell_type": "markdown",
   "id": "42e733ad-eb26-4a84-a053-206e83be7fda",
   "metadata": {},
   "source": [
    "Student Name: Seyyed Jalal Tabatabaee<br/>\n",
    "Student ID: GH1033801<br/>\n",
    "Github Link: https://github.com/shayantabatabaee/shark-attacks-classification <br/>\n",
    "Dataset Link: https://www.kaggle.com/datasets/gauravkumar2525/shark-attacks/data"
   ]
  },
  {
   "cell_type": "markdown",
   "id": "b755c8d1-ca23-4f10-ab7c-42afb71c1535",
   "metadata": {},
   "source": [
    "## Introduction"
   ]
  },
  {
   "cell_type": "markdown",
   "id": "aef324f1-1a17-406d-a3a2-156e6d9b4972",
   "metadata": {},
   "source": [
    "This Jupyter notebook is part of the final project for the machine learning course at Gisma University of Applied Sciences. It aims to apply traditional machine learning methods to the <b>Shark Attacks</b> dataset. The Global Shark Attacks Dataset provides a detailed record of human-shark interactions worldwide. It includes information like the date, location, type of attack, activity of the person, shark species involved, and whether the attack was fatal. As the author noted, this dataset is useful for researchers, marine biologists, conservationists, and enthusiasts who want to study shark behavior, understand attack patterns, and improve ocean safety.\n",
    "\n",
    "In the first part of this notebook, I will install the required dependencies and load the data. Next, we will check how clean the dataset is and, if needed, I will apply a cleaning pipeline and best practices to prepare the dataset. In the last part, machine learning methods will be used on the dataset for a classification task, and the best model among them will be saved. Finally, the classification metrics and overall evaluation will be described in detail."
   ]
  },
  {
   "cell_type": "markdown",
   "id": "900ae6d4-a7aa-43d8-81af-7e8cbca05a46",
   "metadata": {},
   "source": [
    "## Install Libraries"
   ]
  },
  {
   "cell_type": "code",
   "execution_count": 95,
   "id": "a4e6f319-9a09-4868-9b4b-70d0505bbd90",
   "metadata": {},
   "outputs": [
    {
     "name": "stdout",
     "output_type": "stream",
     "text": [
      "Requirement already satisfied: kagglehub in ./.env/lib/python3.13/site-packages (0.3.10)\n",
      "Requirement already satisfied: packaging in ./.env/lib/python3.13/site-packages (from kagglehub) (24.2)\n",
      "Requirement already satisfied: pyyaml in ./.env/lib/python3.13/site-packages (from kagglehub) (6.0.2)\n",
      "Requirement already satisfied: requests in ./.env/lib/python3.13/site-packages (from kagglehub) (2.32.3)\n",
      "Requirement already satisfied: tqdm in ./.env/lib/python3.13/site-packages (from kagglehub) (4.67.1)\n",
      "Requirement already satisfied: charset-normalizer<4,>=2 in ./.env/lib/python3.13/site-packages (from requests->kagglehub) (3.4.1)\n",
      "Requirement already satisfied: idna<4,>=2.5 in ./.env/lib/python3.13/site-packages (from requests->kagglehub) (3.10)\n",
      "Requirement already satisfied: urllib3<3,>=1.21.1 in ./.env/lib/python3.13/site-packages (from requests->kagglehub) (2.3.0)\n",
      "Requirement already satisfied: certifi>=2017.4.17 in ./.env/lib/python3.13/site-packages (from requests->kagglehub) (2025.1.31)\n",
      "Requirement already satisfied: pandas in ./.env/lib/python3.13/site-packages (2.2.3)\n",
      "Requirement already satisfied: numpy>=1.26.0 in ./.env/lib/python3.13/site-packages (from pandas) (2.2.4)\n",
      "Requirement already satisfied: python-dateutil>=2.8.2 in ./.env/lib/python3.13/site-packages (from pandas) (2.9.0.post0)\n",
      "Requirement already satisfied: pytz>=2020.1 in ./.env/lib/python3.13/site-packages (from pandas) (2025.1)\n",
      "Requirement already satisfied: tzdata>=2022.7 in ./.env/lib/python3.13/site-packages (from pandas) (2025.1)\n",
      "Requirement already satisfied: six>=1.5 in ./.env/lib/python3.13/site-packages (from python-dateutil>=2.8.2->pandas) (1.17.0)\n",
      "Requirement already satisfied: missingno in ./.env/lib/python3.13/site-packages (0.5.2)\n",
      "Requirement already satisfied: numpy in ./.env/lib/python3.13/site-packages (from missingno) (2.2.4)\n",
      "Requirement already satisfied: matplotlib in ./.env/lib/python3.13/site-packages (from missingno) (3.10.1)\n",
      "Requirement already satisfied: scipy in ./.env/lib/python3.13/site-packages (from missingno) (1.15.2)\n",
      "Requirement already satisfied: seaborn in ./.env/lib/python3.13/site-packages (from missingno) (0.13.2)\n",
      "Requirement already satisfied: contourpy>=1.0.1 in ./.env/lib/python3.13/site-packages (from matplotlib->missingno) (1.3.1)\n",
      "Requirement already satisfied: cycler>=0.10 in ./.env/lib/python3.13/site-packages (from matplotlib->missingno) (0.12.1)\n",
      "Requirement already satisfied: fonttools>=4.22.0 in ./.env/lib/python3.13/site-packages (from matplotlib->missingno) (4.56.0)\n",
      "Requirement already satisfied: kiwisolver>=1.3.1 in ./.env/lib/python3.13/site-packages (from matplotlib->missingno) (1.4.8)\n",
      "Requirement already satisfied: packaging>=20.0 in ./.env/lib/python3.13/site-packages (from matplotlib->missingno) (24.2)\n",
      "Requirement already satisfied: pillow>=8 in ./.env/lib/python3.13/site-packages (from matplotlib->missingno) (11.1.0)\n",
      "Requirement already satisfied: pyparsing>=2.3.1 in ./.env/lib/python3.13/site-packages (from matplotlib->missingno) (3.2.1)\n",
      "Requirement already satisfied: python-dateutil>=2.7 in ./.env/lib/python3.13/site-packages (from matplotlib->missingno) (2.9.0.post0)\n",
      "Requirement already satisfied: pandas>=1.2 in ./.env/lib/python3.13/site-packages (from seaborn->missingno) (2.2.3)\n",
      "Requirement already satisfied: pytz>=2020.1 in ./.env/lib/python3.13/site-packages (from pandas>=1.2->seaborn->missingno) (2025.1)\n",
      "Requirement already satisfied: tzdata>=2022.7 in ./.env/lib/python3.13/site-packages (from pandas>=1.2->seaborn->missingno) (2025.1)\n",
      "Requirement already satisfied: six>=1.5 in ./.env/lib/python3.13/site-packages (from python-dateutil>=2.7->matplotlib->missingno) (1.17.0)\n",
      "Requirement already satisfied: geopy in ./.env/lib/python3.13/site-packages (2.4.1)\n",
      "Requirement already satisfied: geographiclib<3,>=1.52 in ./.env/lib/python3.13/site-packages (from geopy) (2.0)\n",
      "Requirement already satisfied: tqdm in ./.env/lib/python3.13/site-packages (4.67.1)\n",
      "Collecting feature_engine\n",
      "  Downloading feature_engine-1.8.3-py2.py3-none-any.whl.metadata (9.9 kB)\n",
      "Requirement already satisfied: numpy>=1.18.2 in ./.env/lib/python3.13/site-packages (from feature_engine) (2.2.4)\n",
      "Requirement already satisfied: pandas>=2.2.0 in ./.env/lib/python3.13/site-packages (from feature_engine) (2.2.3)\n",
      "Requirement already satisfied: scikit-learn>=1.4.0 in ./.env/lib/python3.13/site-packages (from feature_engine) (1.6.1)\n",
      "Requirement already satisfied: scipy>=1.4.1 in ./.env/lib/python3.13/site-packages (from feature_engine) (1.15.2)\n",
      "Requirement already satisfied: statsmodels>=0.11.1 in ./.env/lib/python3.13/site-packages (from feature_engine) (0.14.4)\n",
      "Requirement already satisfied: python-dateutil>=2.8.2 in ./.env/lib/python3.13/site-packages (from pandas>=2.2.0->feature_engine) (2.9.0.post0)\n",
      "Requirement already satisfied: pytz>=2020.1 in ./.env/lib/python3.13/site-packages (from pandas>=2.2.0->feature_engine) (2025.1)\n",
      "Requirement already satisfied: tzdata>=2022.7 in ./.env/lib/python3.13/site-packages (from pandas>=2.2.0->feature_engine) (2025.1)\n",
      "Requirement already satisfied: joblib>=1.2.0 in ./.env/lib/python3.13/site-packages (from scikit-learn>=1.4.0->feature_engine) (1.4.2)\n",
      "Requirement already satisfied: threadpoolctl>=3.1.0 in ./.env/lib/python3.13/site-packages (from scikit-learn>=1.4.0->feature_engine) (3.6.0)\n",
      "Requirement already satisfied: patsy>=0.5.6 in ./.env/lib/python3.13/site-packages (from statsmodels>=0.11.1->feature_engine) (1.0.1)\n",
      "Requirement already satisfied: packaging>=21.3 in ./.env/lib/python3.13/site-packages (from statsmodels>=0.11.1->feature_engine) (24.2)\n",
      "Requirement already satisfied: six>=1.5 in ./.env/lib/python3.13/site-packages (from python-dateutil>=2.8.2->pandas>=2.2.0->feature_engine) (1.17.0)\n",
      "Downloading feature_engine-1.8.3-py2.py3-none-any.whl (378 kB)\n",
      "Installing collected packages: feature_engine\n",
      "Successfully installed feature_engine-1.8.3\n"
     ]
    }
   ],
   "source": [
    "!pip install kagglehub\n",
    "!pip install pandas\n",
    "!pip install missingno\n",
    "!pip install geopy\n",
    "!pip install tqdm\n",
    "!pip install feature_engine"
   ]
  },
  {
   "cell_type": "markdown",
   "id": "3bb49cee-c871-4ea3-aa5b-840b9e6c2568",
   "metadata": {},
   "source": [
    "## Import Libraries"
   ]
  },
  {
   "cell_type": "code",
   "execution_count": 123,
   "id": "a37d3f9d-bfa2-4f24-be74-44a8525619f9",
   "metadata": {},
   "outputs": [],
   "source": [
    "import kagglehub\n",
    "import os\n",
    "import pandas as pd\n",
    "import time\n",
    "from tqdm.notebook import tqdm\n",
    "import missingno as msno\n",
    "import re\n",
    "from geopy.geocoders import Nominatim\n",
    "from geopy.exc import GeocoderTimedOut\n",
    "from feature_engine.encoding import RareLabelEncoder"
   ]
  },
  {
   "cell_type": "markdown",
   "id": "f513dc20-5f4c-4641-b1de-b2676cfd0305",
   "metadata": {},
   "source": [
    "# Data Preprocessing"
   ]
  },
  {
   "cell_type": "markdown",
   "id": "01ff4f81-0355-4f1c-923a-a5aef0485956",
   "metadata": {},
   "source": [
    "## Download Dataset"
   ]
  },
  {
   "cell_type": "code",
   "execution_count": 23,
   "id": "17502135-332a-40b3-9207-b7504897384b",
   "metadata": {},
   "outputs": [
    {
     "name": "stdout",
     "output_type": "stream",
     "text": [
      "Path to dataset files: /Users/shayantabatabaee/.cache/kagglehub/datasets/gauravkumar2525/shark-attacks/versions/1\n",
      "Dataset Filename: global_shark_attacks.csv\n"
     ]
    }
   ],
   "source": [
    "dataset_path = kagglehub.dataset_download(\"gauravkumar2525/shark-attacks\")\n",
    "print(\"Path to dataset files:\", dataset_path)\n",
    "print(\"Dataset Filename:\", os.listdir(dataset_path)[0])"
   ]
  },
  {
   "cell_type": "markdown",
   "id": "bc9d125a-78a9-413b-8a09-acae2f9535b7",
   "metadata": {},
   "source": [
    "## Load Dataset"
   ]
  },
  {
   "cell_type": "code",
   "execution_count": 24,
   "id": "8eab12fa-88b7-4ef5-a544-fd97914741d0",
   "metadata": {},
   "outputs": [
    {
     "name": "stdout",
     "output_type": "stream",
     "text": [
      "Data loaded successfully!\n",
      "Dataset shape: (6890, 13)\n"
     ]
    },
    {
     "data": {
      "text/html": [
       "<div>\n",
       "<style scoped>\n",
       "    .dataframe tbody tr th:only-of-type {\n",
       "        vertical-align: middle;\n",
       "    }\n",
       "\n",
       "    .dataframe tbody tr th {\n",
       "        vertical-align: top;\n",
       "    }\n",
       "\n",
       "    .dataframe thead th {\n",
       "        text-align: right;\n",
       "    }\n",
       "</style>\n",
       "<table border=\"1\" class=\"dataframe\">\n",
       "  <thead>\n",
       "    <tr style=\"text-align: right;\">\n",
       "      <th></th>\n",
       "      <th>date</th>\n",
       "      <th>year</th>\n",
       "      <th>type</th>\n",
       "      <th>country</th>\n",
       "      <th>area</th>\n",
       "      <th>location</th>\n",
       "      <th>activity</th>\n",
       "      <th>name</th>\n",
       "      <th>sex</th>\n",
       "      <th>age</th>\n",
       "      <th>fatal_y_n</th>\n",
       "      <th>time</th>\n",
       "      <th>species</th>\n",
       "    </tr>\n",
       "  </thead>\n",
       "  <tbody>\n",
       "    <tr>\n",
       "      <th>0</th>\n",
       "      <td>2023-05-13</td>\n",
       "      <td>2023.0</td>\n",
       "      <td>Unprovoked</td>\n",
       "      <td>AUSTRALIA</td>\n",
       "      <td>South Australia</td>\n",
       "      <td>Elliston</td>\n",
       "      <td>Surfing</td>\n",
       "      <td>Simon Baccanello</td>\n",
       "      <td>M</td>\n",
       "      <td>46</td>\n",
       "      <td>Y</td>\n",
       "      <td>10h10</td>\n",
       "      <td>White shark</td>\n",
       "    </tr>\n",
       "    <tr>\n",
       "      <th>1</th>\n",
       "      <td>2023-04-29</td>\n",
       "      <td>2023.0</td>\n",
       "      <td>Unprovoked</td>\n",
       "      <td>AUSTRALIA</td>\n",
       "      <td>Western Australia</td>\n",
       "      <td>Yallingup, Busselton</td>\n",
       "      <td>Swimming</td>\n",
       "      <td>male</td>\n",
       "      <td>M</td>\n",
       "      <td>NaN</td>\n",
       "      <td>N</td>\n",
       "      <td>11h20</td>\n",
       "      <td>1m shark</td>\n",
       "    </tr>\n",
       "    <tr>\n",
       "      <th>2</th>\n",
       "      <td>2022-10-07</td>\n",
       "      <td>2022.0</td>\n",
       "      <td>Unprovoked</td>\n",
       "      <td>AUSTRALIA</td>\n",
       "      <td>Western  Australia</td>\n",
       "      <td>Port Hedland</td>\n",
       "      <td>Spearfishing</td>\n",
       "      <td>Robbie Peck</td>\n",
       "      <td>M</td>\n",
       "      <td>38</td>\n",
       "      <td>N</td>\n",
       "      <td>11h30</td>\n",
       "      <td>Bull shark</td>\n",
       "    </tr>\n",
       "    <tr>\n",
       "      <th>3</th>\n",
       "      <td>2021-10-04</td>\n",
       "      <td>2021.0</td>\n",
       "      <td>Unprovoked</td>\n",
       "      <td>USA</td>\n",
       "      <td>Florida</td>\n",
       "      <td>Fort Pierce State Park, St. Lucie County</td>\n",
       "      <td>Surfing</td>\n",
       "      <td>Truman Van Patrick</td>\n",
       "      <td>M</td>\n",
       "      <td>25.0</td>\n",
       "      <td>N</td>\n",
       "      <td>NaN</td>\n",
       "      <td>NaN</td>\n",
       "    </tr>\n",
       "    <tr>\n",
       "      <th>4</th>\n",
       "      <td>2021-10-03</td>\n",
       "      <td>2021.0</td>\n",
       "      <td>Unprovoked</td>\n",
       "      <td>USA</td>\n",
       "      <td>Florida</td>\n",
       "      <td>Jensen Beach, Martin County</td>\n",
       "      <td>Swimming</td>\n",
       "      <td>male</td>\n",
       "      <td>M</td>\n",
       "      <td>NaN</td>\n",
       "      <td>N</td>\n",
       "      <td>12h00</td>\n",
       "      <td>NaN</td>\n",
       "    </tr>\n",
       "  </tbody>\n",
       "</table>\n",
       "</div>"
      ],
      "text/plain": [
       "         date    year        type    country                area  \\\n",
       "0  2023-05-13  2023.0  Unprovoked  AUSTRALIA     South Australia   \n",
       "1  2023-04-29  2023.0  Unprovoked  AUSTRALIA   Western Australia   \n",
       "2  2022-10-07  2022.0  Unprovoked  AUSTRALIA  Western  Australia   \n",
       "3  2021-10-04  2021.0  Unprovoked        USA             Florida   \n",
       "4  2021-10-03  2021.0  Unprovoked        USA             Florida   \n",
       "\n",
       "                                   location      activity                name  \\\n",
       "0                                  Elliston       Surfing    Simon Baccanello   \n",
       "1                      Yallingup, Busselton      Swimming                male   \n",
       "2                              Port Hedland  Spearfishing         Robbie Peck   \n",
       "3  Fort Pierce State Park, St. Lucie County       Surfing  Truman Van Patrick   \n",
       "4               Jensen Beach, Martin County      Swimming                male   \n",
       "\n",
       "  sex   age fatal_y_n   time      species  \n",
       "0   M    46         Y  10h10  White shark  \n",
       "1   M   NaN         N  11h20     1m shark  \n",
       "2   M    38         N  11h30   Bull shark  \n",
       "3   M  25.0         N    NaN          NaN  \n",
       "4   M   NaN         N  12h00          NaN  "
      ]
     },
     "execution_count": 24,
     "metadata": {},
     "output_type": "execute_result"
    }
   ],
   "source": [
    "data = pd.read_csv(os.path.join(dataset_path, os.listdir(dataset_path)[0]))\n",
    "print(\"Data loaded successfully!\")\n",
    "print(f\"Dataset shape: {data.shape}\")\n",
    "data.head()"
   ]
  },
  {
   "cell_type": "markdown",
   "id": "6f132fd2-ed1a-40e5-837f-320f9301119f",
   "metadata": {},
   "source": [
    "## Clean Dataset"
   ]
  },
  {
   "cell_type": "markdown",
   "id": "b62d9390-f176-4677-8264-090ff96a4d2d",
   "metadata": {},
   "source": [
    "In this section, I will first check if there are any missing values. I will also look at the data type for each column. If the data type is numerical and there are no missing values, we’re ready to move forward, but later we’ll need to check the distribution of the data to see if there are too many zeros. If the data type is object and categorical, we’ll check each value in the column to ensure they make sense. The most helpful library for getting insights about all features at once is <i>missingno</i>. Let's first check our targets i.e. <i>fatal_y_n</i> column and remove if there is nonsense values. Next I will check the NaN and empty values for all features using this library."
   ]
  },
  {
   "cell_type": "code",
   "execution_count": 30,
   "id": "c6059df9-7722-402b-9a41-bc97ef5bdc72",
   "metadata": {},
   "outputs": [
    {
     "data": {
      "text/plain": [
       "fatal_y_n\n",
       "N          4804\n",
       "Y          1447\n",
       "UNKNOWN     631\n",
       "F             3\n",
       "y             1\n",
       "Y x 2         1\n",
       "n             1\n",
       "2017.0        1\n",
       "Nq            1\n",
       "Name: count, dtype: int64"
      ]
     },
     "execution_count": 30,
     "metadata": {},
     "output_type": "execute_result"
    }
   ],
   "source": [
    "data['fatal_y_n'].value_counts()"
   ]
  },
  {
   "cell_type": "markdown",
   "id": "9f621102-e9b3-41f3-a348-58425e830415",
   "metadata": {},
   "source": [
    "As we can see, there are 631 UNKNOWN values which we can remove the rows. Also for example there are 3 F and 1 y which we can combine with N and Y targets."
   ]
  },
  {
   "cell_type": "code",
   "execution_count": 35,
   "id": "2e4b28ac-975c-492a-9720-e7e5dedee567",
   "metadata": {},
   "outputs": [],
   "source": [
    "# Remove UNKNOWN rows\n",
    "data = data[data['fatal_y_n'] != 'UNKNOWN']\n",
    "# Replace other values\n",
    "data['fatal_y_n'] = data['fatal_y_n'].replace({\n",
    "    'F': 'N',\n",
    "    'y': 'Y',\n",
    "    'Y x 2': 'Y'\n",
    "})\n",
    "# Keep only valid values (N and Y)\n",
    "data = data[data['fatal_y_n'].isin(['N', 'Y'])]"
   ]
  },
  {
   "cell_type": "code",
   "execution_count": 36,
   "id": "6a74b71d-5a9b-4ca5-b052-8effcb20d716",
   "metadata": {},
   "outputs": [
    {
     "data": {
      "text/plain": [
       "fatal_y_n\n",
       "N    4807\n",
       "Y    1449\n",
       "Name: count, dtype: int64"
      ]
     },
     "execution_count": 36,
     "metadata": {},
     "output_type": "execute_result"
    }
   ],
   "source": [
    "data['fatal_y_n'].value_counts()"
   ]
  },
  {
   "cell_type": "markdown",
   "id": "9dda4ece-32d6-495d-adc5-dbba4d716825",
   "metadata": {},
   "source": [
    "Now our target column is clean, Let's check the other columns as well."
   ]
  },
  {
   "cell_type": "code",
   "execution_count": 37,
   "id": "ae6688d6-44e9-45a0-b63e-23f4c4bc54a7",
   "metadata": {},
   "outputs": [
    {
     "data": {
      "text/plain": [
       "<Axes: >"
      ]
     },
     "execution_count": 37,
     "metadata": {},
     "output_type": "execute_result"
    },
    {
     "data": {
      "image/png": "[encoded data removed]",
      "text/plain": [
       "<Figure size 2500x1000 with 2 Axes>"
      ]
     },
     "metadata": {},
     "output_type": "display_data"
    }
   ],
   "source": [
    "%matplotlib inline\n",
    "msno.matrix(data)"
   ]
  },
  {
   "cell_type": "markdown",
   "id": "1afb7270-e6c5-418b-86cf-43a4fbdbb4e3",
   "metadata": {},
   "source": [
    "As we can see in the images above, the white sections show that there are many null values in our dataset. For example, these columns have fewer null values: ['date', 'year', 'type', 'country', 'name', 'fatal_y_n']. But on the other hand, the ['age', 'time', 'species'] columns have a lot of null values. Let's check the datatypes of each column."
   ]
  },
  {
   "cell_type": "code",
   "execution_count": 28,
   "id": "4e937f3f-d9c4-432c-9adf-0d9e24cf4927",
   "metadata": {},
   "outputs": [
    {
     "name": "stdout",
     "output_type": "stream",
     "text": [
      "<class 'pandas.core.frame.DataFrame'>\n",
      "RangeIndex: 6890 entries, 0 to 6889\n",
      "Data columns (total 13 columns):\n",
      " #   Column     Non-Null Count  Dtype  \n",
      "---  ------     --------------  -----  \n",
      " 0   date       6587 non-null   object \n",
      " 1   year       6758 non-null   float64\n",
      " 2   type       6871 non-null   object \n",
      " 3   country    6839 non-null   object \n",
      " 4   area       6409 non-null   object \n",
      " 5   location   6325 non-null   object \n",
      " 6   activity   6304 non-null   object \n",
      " 7   name       6670 non-null   object \n",
      " 8   sex        6318 non-null   object \n",
      " 9   age        3903 non-null   object \n",
      " 10  fatal_y_n  6890 non-null   object \n",
      " 11  time       3372 non-null   object \n",
      " 12  species    3772 non-null   object \n",
      "dtypes: float64(1), object(12)\n",
      "memory usage: 699.9+ KB\n",
      "None\n"
     ]
    }
   ],
   "source": [
    "print(data.info())"
   ]
  },
  {
   "cell_type": "markdown",
   "id": "1d435a0e-5035-4fac-9b38-6782b9e84473",
   "metadata": {},
   "source": [
    "The only column that is numerical is <i>year</i>, so we can use some feature imputation techniques for this column like replace null values with mean, median or a fixed value. For other columns let's check the values to get better insights."
   ]
  },
  {
   "cell_type": "code",
   "execution_count": 39,
   "id": "acabaf28-b45b-4fc1-b9b2-446e553d845a",
   "metadata": {},
   "outputs": [
    {
     "name": "stdout",
     "output_type": "stream",
     "text": [
      "date: ['2023-05-13' '2023-04-29' '2022-10-07' ... '1828-01-01' '1792-09-12'\n",
      " '1703-03-26']\n",
      "type: ['Unprovoked' 'Provoked' 'Invalid' 'Watercraft' 'Sea Disaster'\n",
      " 'Questionable' nan 'Boat' 'Unverified' '?' 'Under investigation']\n",
      "country: ['AUSTRALIA' 'USA' 'JAMAICA' 'NEW ZEALAND' 'PAPUA NEW GUINEA'\n",
      " 'FRENCH POLYNESIA' 'CHINA' 'SOUTH AFRICA' 'BAHAMAS' 'NEW CALEDONIA'\n",
      " 'REUNION' 'PALESTINIAN TERRITORIES' 'BELIZE' 'PHILIPPINES' 'MOZAMBIQUE'\n",
      " 'KENYA' 'BRAZIL' 'FIJI' 'TANZANIA' 'ENGLAND' 'THAILAND' 'SOUTH KOREA'\n",
      " 'MAURITIUS' 'ITALY' 'MEXICO' 'MARSHALL ISLANDS' 'SPAIN' 'TAIWAN' 'TURKEY'\n",
      " 'SENEGAL' 'AMERICAN SAMOA' 'PACIFIC OCEAN' 'INDIAN OCEAN' 'NEW GUINEA'\n",
      " 'SOLOMON ISLANDS' 'GREECE' 'COSTA RICA' 'INDONESIA' 'CUBA' 'GEORGIA'\n",
      " 'SIERRA LEONE' 'Coast of AFRICA' 'INDIA' 'TOBAGO' 'EGYPT' 'SAMOA'\n",
      " 'DOMINICAN REPUBLIC' 'MADAGASCAR' 'MALAYSIA' 'GULF OF ADEN' 'SOMALIA'\n",
      " 'CHILE' nan 'SINGAPORE' 'BRITISH WEST INDIES' 'NORTH ATLANTIC OCEAN'\n",
      " 'SRI LANKA' 'OKINAWA' 'SOUTH PACIFIC OCEAN' 'SOUTH ATLANTIC OCEAN'\n",
      " 'CARIBBEAN SEA' 'MONTENEGRO' 'YEMEN' 'VIETNAM' 'COOK ISLANDS'\n",
      " 'WEST INDIES' 'TURKS and CaICOS' 'Sierra Leone' 'TONGA' 'VANUATU' 'IRAN'\n",
      " 'HONG KONG' 'NEW BRITAIN' 'SOLOMON ISLANDS / VANUATU' 'PANAMA' 'GUYANA'\n",
      " 'ATLANTIC OCEAN' 'INDIAN OCEAN?' 'CANADA' 'MEDITERRANEAN SEA' 'BURMA'\n",
      " 'ST KITTS / NEVIS' 'MALDIVES' 'ECUADOR' 'JAPAN' 'VENEZUELA'\n",
      " 'PERSIAN GULF' 'THE BALKANS' 'NICARAGUA' 'BARBADOS' 'SAN DOMINGO'\n",
      " 'CROATIA' 'FRANCE' 'LEBANON' 'RED SEA?' 'IRAQ' 'NIGERIA' 'WESTERN SAMOA'\n",
      " 'SCOTLAND' 'CEYLON' 'PERU' 'SUDAN' 'SAUDI ARABIA' 'REUNION ISLAND'\n",
      " 'NORWAY' 'GRENADA' 'FEDERATED STATES OF MICRONESIA'\n",
      " 'NETHERLANDS ANTILLES' 'PORTUGAL' 'HONDURAS' 'CYPRUS' 'HAITI' 'ALGERIA'\n",
      " 'BERMUDA' 'UNITED KINGDOM' 'MAYOTTE' 'COLUMBIA' 'LIBYA' 'South Africa'\n",
      " 'MID ATLANTIC OCEAN' 'MALDIVE ISLANDS' 'MARTINIQUE'\n",
      " 'SOUTHWEST PACIFIC OCEAN' 'KUWAIT' 'Fiji' 'PUERTO RICO' 'TURKS & CAICOS'\n",
      " 'ISRAEL' 'BRITISH ISLES' 'MALTA' 'LIBERIA' 'NAMIBIA' 'ASIA?' 'RUSSIA'\n",
      " 'RED SEA' 'PALAU' 'ADMIRALTY ISLANDS' 'ANDAMAN / NICOBAR ISLANDAS'\n",
      " 'SLOVENIA' 'URUGUAY' 'NORTH PACIFIC OCEAN' 'MeXICO' 'BANGLADESH'\n",
      " 'JOHNSTON ISLAND' 'NORTHERN MARIANA ISLANDS' 'GREENLAND' 'KIRIBATI'\n",
      " 'IRELAND' 'AZORES' 'ARGENTINA' 'AFRICA' 'ST MARTIN' 'TRINIDAD & TOBAGO'\n",
      " 'SEYCHELLES' 'OCEAN' 'UNITED ARAB EMIRATES (UAE)' 'MICRONESIA' 'ICELAND'\n",
      " 'TUVALU' 'EQUATORIAL GUINEA / CAMEROON' 'Between PORTUGAL & INDIA'\n",
      " 'DJIBOUTI' 'SUDAN?' 'ANDAMAN ISLANDS' 'CEYLON (SRI LANKA)' 'JORDAN'\n",
      " 'MONACO' 'TUNISIA' 'GHANA' 'EGYPT / ISRAEL' 'IRAN / IRAQ' 'JAVA'\n",
      " 'ST HELENA, British overseas territory' 'ST. MAARTIN' 'NORTH SEA'\n",
      " 'BRITISH NEW GUINEA' 'British Overseas Territory' 'GUAM' 'EL SALVADOR'\n",
      " 'RED SEA / INDIAN OCEAN' 'ANGOLA' 'CENTRAL PACIFIC' 'Australia'\n",
      " 'UNITED ARAB EMIRATES' 'GRAND CAYMAN' 'CAPE VERDE' 'GUINEA' 'New Zealand'\n",
      " 'CURACAO' 'PARAGUAY' 'DIEGO GARCIA' 'SOUTH CHINA SEA' 'BAY OF BENGAL'\n",
      " 'CRETE' 'COLOMBIA' 'ARUBA' 'NORTHERN ARABIAN SEA' 'GABON'\n",
      " 'FALKLAND ISLANDS' 'BAHREIN' 'Maldives' 'ST. MARTIN' 'MID-PACIFC OCEAN'\n",
      " 'TASMAN SEA' 'KOREA']\n",
      "area: ['South Australia' 'Western Australia' 'Western  Australia' 'Florida'\n",
      " 'South Carolina' 'Hawaii' 'Westmoreland Parish' 'Queensland'\n",
      " 'Virgin Islands' 'North Island' 'Central Province' 'Moorea'\n",
      " 'New South Wales' 'South Island' 'Guizhou Province' 'California'\n",
      " 'Eastern Cape Province' 'The Exuma Cays' 'North Province'\n",
      " 'Western Cape Province' 'Le Port' 'Abaco Islands' 'Oregon' nan\n",
      " 'St. Catherine' 'Palawan' 'Victoria' 'Eastern Cape  Province'\n",
      " 'Inhambane Province' 'Mombasa' 'Pernambuco' 'Northern Bahamas'\n",
      " 'Vitu Levu' 'Saint-Pierre' 'North Carolina' 'Worcestershire'\n",
      " 'Phang nga Province' 'Georgia' 'Saint-Paul' 'KwaZulu-Natal'\n",
      " 'Tyrrhenian Sea' 'Baja California' 'South Province' 'Andros Islands'\n",
      " 'Ralik Archipelago' 'Limpopo River' 'Canary Islands' 'Eleuthera'\n",
      " 'Gulf Province' 'Northern Taiwan' 'Antalya Province' 'Torres Strait'\n",
      " 'Anatolia' 'New Jersey' 'Cap-Vert Peninsula' 'Casamance' 'Tutuila Island'\n",
      " 'Between Hawaii & Wake Island' 'Viti Levu' 'Puerto Rico'\n",
      " 'Madang Province' 'New Ireland Province' 'Bougainville (North Solomons)'\n",
      " 'Morobe Province' 'Kwajalein' 'Near Puntarenas' 'Java' 'Havana Province'\n",
      " 'Mindoro Occidental' 'Island of St. Thomas' 'Tamil Nadu' 'Paraiba'\n",
      " 'Lucayan Lucayan Archipelago' 'Hurghada, Red Sea Governorate'\n",
      " 'Loyalty Islands' 'Southland' 'Upolu Island' 'Alicante Province' 'Texas'\n",
      " 'Taitung' 'Society Islands' 'New York' 'Antsiranana Province'\n",
      " 'Maputo Province' 'Strait of Malacca' 'Northern Territory'\n",
      " 'Between Somalia & Yemen' 'Saint-Gilles-les-Bains' 'Quintana Roo'\n",
      " 'Banaadir Region' 'Great Exuma Island' 'Valpariso Province'\n",
      " 'Between DR and Puerto Rico' 'English Channel' 'Guerrero' 'Devon'\n",
      " 'Bay of Maputo' 'Veracruz' 'Thessaly' 'Grand Turk Island'\n",
      " 'Western Luzon Island' 'Western District'\n",
      " 'Between Timor & Darwin, Australia' 'In the Gulf Stream'\n",
      " 'Near the Andaman & Nicobar Islands' 'Louisiana' 'Eastern Province'\n",
      " 'Caribbean Sea' 'Virginia' 'Connecticut' 'Adriatic Sea' 'Málaga'\n",
      " 'Delaware' 'Aden' 'Nusa Tenggara' 'Bay of Bengal' 'Mangaia Island' 'Poum'\n",
      " 'Providenciales Island' 'Maui' 'Lucayan Archipelago' 'Bélep Islands'\n",
      " 'Saint Gilles' 'Binh Dinh Province' 'Guerro' 'Western Area' 'Alabama'\n",
      " 'Gaza' 'Vava’u' \"L'Etang-Salé\" 'Malampa Province' 'Sicily' 'Mirs Bay'\n",
      " 'Saint-Philippe' 'Cap Vert Peninsula' 'New Britain' 'Lau Province'\n",
      " 'US Virgin Islands' 'East New Britain Province' 'Tasmania'\n",
      " 'Corregidor Island' 'Kikori River mouth' 'Guerrrero' 'Honiara'\n",
      " 'Eniwetok Atoll' 'Between Comores & Madagascar' 'Milne Bay Province'\n",
      " 'Shatt-el-Arab River' 'Makora-Ulawa Province' 'Khuzestan Province'\n",
      " 'Colon' 'Luzon Island' 'Apolima Strait' 'Essequibo' 'Calabria' 'Muala'\n",
      " 'Mississippi' 'Misamis Oriental' 'West Bengal' 'Hoogly River' 'Sardinia'\n",
      " 'Marquesas' 'The Narrows' 'Guam' 'Rhode Island' 'Chieti, Province'\n",
      " 'Alifu Alifu Atoll' 'Tabasco' 'New Providence' 'Santa Elena'\n",
      " 'Exuma Islands' 'St. Johns Reef' \"Nuku'alofa\"\n",
      " 'South Island, near Karitane north of Dunedin' 'Miyako' 'Yasawa Islands'\n",
      " 'La Saline-les-Bains' 'Tokyo Prefecture' 'Cádiz' 'Pinas Bay'\n",
      " 'United Arab Emirates' 'Eastern  Province' 'Slovenia' 'Coast Province'\n",
      " 'Lower San Juan River' 'Colon Province' 'St Michael Parish' 'Manila'\n",
      " 'Dorset' 'Galica' '60 miles north of San Domingo in the West Indies'\n",
      " 'Khánh Hòa Province' 'Istria County' 'Maryland'\n",
      " 'Magarita or Cubagua Islands' 'Basrah'\n",
      " 'Between New Ireland & New Britain' 'Valencia' 'Upolo'\n",
      " 'Fernando de Noronha' 'Hong Kong' 'Guanacaste' 'Delta'\n",
      " 'Antofagasta Province' 'South Sinai Peninsula' 'New Providence Island'\n",
      " '600 nm west of the Canary Islands' 'Alaska' \"L' Etang Salé-les-Bains\"\n",
      " 'Ehime Prefecture' 'Saint-Joseph' 'Mindoro' 'Rio de Janeiro'\n",
      " 'Reggio Calabria Province' 'Clarendon' 'Mugla Province'\n",
      " 'Duke of York Islands' 'Louisiade Archipelago'\n",
      " 'Abau Subdistrict,Central Province' 'Karun River'\n",
      " 'Off Samar Island in the Gulf of Leyte' 'Arran' 'South of the Equator'\n",
      " 'Viti Levu Island' 'Gujarat' 'Eastern Catalona' 'Sussex' 'Paloma'\n",
      " 'Red Sea State' 'Cornwall' 'Grand Bahama Island' 'Colima' 'Cocos Island'\n",
      " '40 miles off Grand Bahama Island' 'Bali' 'Western Province'\n",
      " 'Saint-Benoit' 'Oslo Fjord' \"Vava'u\" 'Rio Grande de Norte' 'Ralik Chain'\n",
      " 'Massachusetts' 'Chatham Islands, east of New  Zealand'\n",
      " 'Aichi Prefecture' 'Costa Blanca' 'New Territories'\n",
      " 'North & South Carolina' 'St. Andrew Parish' 'Out Islands'\n",
      " 'Caribbean Coast' 'Vanua Levu' 'Eastern Caroline Islands'\n",
      " 'Off coast of West Africa' 'New Ireland Province, Bismarck Archipelago'\n",
      " 'Guantanamo Province' 'Curacao' 'Black River' 'Salinas Bay'\n",
      " 'Maluku Province' 'Southern Cyprus' 'Off Cape Haitien' 'Zadar County'\n",
      " 'Matanzas Province (north coast)' 'Rivers State' 'Tuamotus'\n",
      " 'New South ales' 'Exumas' 'Bahia' 'Saint-Leu' 'Red Sea' 'Walkers Cay'\n",
      " 'Washington' 'Moro Gulf' 'Near Bougainville (North Solomons)'\n",
      " 'Lomaloma, Lau' 'Guyamas' 'Kadavu' 'Mozambique Channel'\n",
      " '300 miles east of Luzon' 'Basrah City' 'Zamboanga del Sur Province'\n",
      " 'Mediterranean Sea' 'Bayelsa State' 'Western Banks' 'Bonin Islands'\n",
      " 'Corfu' 'Cumberland' 'New Georgia' 'KNZ' 'Quinta Roo' 'Sonora' 'Hua Hin'\n",
      " 'Pamplemousses' 'Saint Leu' 'Palmyra Atoll' 'Off Vanua Levu' 'Bocas'\n",
      " 'Galapagos Islands' 'Central Philippines' 'Carolina coast' 'Chungnam'\n",
      " 'Bimini Islands' 'Rodrigues' 'Madang' '165  miles from Bermuda'\n",
      " '400 miles southeast of Sri Lanka' 'South Pacific Ocean'\n",
      " 'Singapore Harbor' 'Dar-es-Salaam' 'Shatt-al-Arab River'\n",
      " '300 miles east of St. Thomas (Virgin Islands)'\n",
      " 'North of Pernambuco, Brazil' 'Newfoundland' 'Hamilton' '5aint-Denis'\n",
      " 'Liguria' 'Primorje-Gorski Kotar County' 'South Island?' '22ºN, 88ºE'\n",
      " 'Isle of Wight' 'Chanthaburi Province' 'Caicos Bank' 'Providenciales'\n",
      " '800 miles from land' 'Taveuni' 'Tavenui' 'New Ireland' 'South Devon'\n",
      " 'San Blas' 'Puntarenas Province' 'Guadalcanal Province' '10ºS, 142ºE'\n",
      " 'Orissa' 'Near Dakar, Cap Vert Peninsula' 'Congreve Channel'\n",
      " 'St. Thomas Bay' 'Isles del Rosario' 'East Sepik' 'Nova Scotia' 'Savona'\n",
      " 'Montserrado' 'Ryukyu' 'Panama City' 'Argyllshire'\n",
      " 'Golfo di Genova in the Ligurian Sea' 'East Yorkshire' 'Gran Canaria'\n",
      " 'Socotra Islands' 'Foveaux Strait' 'Sumatra' 'Easten Cape Province'\n",
      " 'Maine' 'Saint-Gilles' 'Majorca' 'Catalonia' 'Alicante' 'Primorsky Krai'\n",
      " 'Grand Canary Island' 'Anzoategui' 'Johnston Atoll' 'Grand Baie'\n",
      " 'Berry Islands' 'Saint-Denis' 'Sainte-Suzanne' \"St. Mary's Parish\"\n",
      " 'Illeginni Atoll' 'East of the Gulf of Aqaba' 'San Blas Islands'\n",
      " 'Western Caroline Islands' 'Manus Island' 'Venice Province'\n",
      " 'Nueva Esparta' 'West New Britain Province' 'Isle of Man'\n",
      " 'Head of the Gulf' 'Off Libya' 'Tuscany' 'Tamaulipas' 'Galicia'\n",
      " 'Villa Clara Province' 'Imperia Province' 'Edinburgh' 'Rocha'\n",
      " 'Gulf of California' 'Galapagos' 'Saint-Andre' 'Tuamotos' 'Granada'\n",
      " 'KwaZulu-Natal between Port Edward and Port St Johns' 'Tongapatu Group'\n",
      " 'Saint-Louis' 'Ganges-Brahmaputra delta' 'Antibes'\n",
      " \"250 miles southwest of O'ahu, Hawaii\" 'Saipan'\n",
      " 'Panama Bay (Pacific Ocean)' 'Elqui Province' 'Andalucia'\n",
      " 'Kingston Parish' 'Gilbert Islands' 'BAHAMAS' 'South Sinai' 'County Cork'\n",
      " 'Shizuoka Prefecture' 'Sinaloa' '740 miles SE of Tarawa Atoll' 'Sucre'\n",
      " 'Split-Dalmatia Count,' 'New Brunswick' 'Transvaal' 'Viscayan Sea'\n",
      " 'Kagawa Prefecture' 'Wakayama Prefecture'\n",
      " 'Admiralty Islands, Manus Province' '18S / 50E' 'Buenos Aires Province'\n",
      " 'Off South American coast' 'Trelawney Province' 'Rangoon'\n",
      " 'Between Australia & USA' 'Sanma Province' 'Island of Volos'\n",
      " 'Ba Ria-Vung Tau  Province' 'Phuket' 'São Paulo.'\n",
      " 'Muang district of Satun province,' 'Chatham Islands' 'Trinidad'\n",
      " 'Trois-Bassins' 'North Devon' 'San Carlos' 'Antarctic Ocean'\n",
      " 'Port Shelter' 'Romblon Province' 'West coast' 'Masbate' 'PANAMA'\n",
      " 'New Ireland, Bismarck Archipelago' 'Teramo' 'Between Hawaii and U.S.A.'\n",
      " 'Argyll' 'Phoenix Islands'\n",
      " 'Somewhere between Philadelphia and Hiogo, Japan' 'Paget' 'Bikini Atoll'\n",
      " 'Sepang' 'Westerm Australia' 'New Providence District' 'Kochi Prefecture'\n",
      " 'Bora Bora' 'd’Étang-Salé' 'Southern District' 'Praslin' \"Ha'api\" 'Dubai'\n",
      " 'Fife' 'Muhafazat Hadramawt' 'Sinai Peninsula' 'Pearl Islands'\n",
      " 'Caroline Islands' 'Cheshire' 'Limón Province' 'North Sumatra'\n",
      " 'Vita Levu' 'Sandaun Province' '19S, 178?E' 'Roncador Bank'\n",
      " 'Rigo subdistrict' 'Okayama Prefecture' 'Mersin Province' 'Mindanao'\n",
      " 'Between Kwajalein Atoll & Johnston Island' 'Adana Province'\n",
      " 'Fishing Grounds' '30 nm from Singapore' 'South Atlantic Ocean'\n",
      " 'Western Viscayas' 'Munxar Reef' \"Côte d'Azur\" 'Fernando Po Island'\n",
      " 'Gulf of Tadjoura' 'Los Roques  Islands' 'Toamasina Province' 'Okinawa'\n",
      " 'Isla De San Andres' 'Noumea' 'Inner Hebrides' 'Southern Thailand'\n",
      " 'Rombion Province' 'San Blas coast' 'Istria' 'Taranto' 'Naples Province'\n",
      " 'Near the Fiji Islands' 'Northwest of Papua New Guinea'\n",
      " 'Northern (Oro) Province' 'French Southern Territories' 'Vera Cruz'\n",
      " 'Leyte' 'Rio San Juan' 'Off the coast of West Africa' 'Mount Lebanon'\n",
      " 'Lake Nicaragua (fresh water)' 'Aqaba' 'Bahamas' 'Baja'\n",
      " 'Baja California Sur' 'Bimini' 'Isla Providencia' 'Balneário Camboriú'\n",
      " 'Bois-Blanc' 'Kedah' 'Cook Islands' 'Miyako Island'\n",
      " 'Mexico / Caribbean Sea' 'Florida Straits' 'Grand Terre'\n",
      " 'Western Caroline Islands (North Pacific Ocean)' 'Magdalena Department'\n",
      " 'Northern District' 'Kwajalein Atoll' 'Leyte Island' 'Tyrrenian Sea'\n",
      " '1000 miles west of Hawaii' 'Bay of Maputu' 'Bay of Monaco' 'Vancouver'\n",
      " '2 to 3 miles off Taboguilla Island, Pacific Ocean' 'Sfax' 'East coast'\n",
      " 'Provence' 'Bay of Campeche' 'Alagoas' 'Lau Group'\n",
      " 'Between Hastings & Fairlight, Sussex' 'Off the coast of South America'\n",
      " 'Colón Province' 'Cape Coast' 'St Helena' 'Yucatan' 'Maharashtra'\n",
      " 'Ambergris Cay' 'Tahiti' 'Red Sea Protectorate'\n",
      " 'Cargados Carajos Shoals (St. Brandon)' 'Wallis and Futuna'\n",
      " 'Okinawa Prefecture' 'Moray' 'Makira-Ulawa Province' 'Cabo San Lucas'\n",
      " 'Marovo Lagoon' 'Kentucky' \"Grand'Anse\" 'Beaufonds'\n",
      " 'South Sinai, Gulf of Aqaba' 'On the Kowloon penisula, south of Sai Kung'\n",
      " 'Ligurian Sea' 'Lamu Archipelago' 'Cat Cay' 'Taipei Hsien'\n",
      " 'Northern Java' 'Niua' 'Lucy' 'Georges Bank' 'Harare Province'\n",
      " 'Bocas del Toro' 'East Java' 'KZN' 'Ambergris Key'\n",
      " 'Franklin County, Florida' 'Phang Nga Province' 'Holquin Province'\n",
      " 'Ascension Island' '300 miles from Antigua' 'Simpson Bay'\n",
      " 'Santiago de Cuba Province' 'Camaguey Province' 'Maranhão'\n",
      " 'Kowloon Peninsula' 'Between Honiara & Isabel Island'\n",
      " 'Ho Ha Wan Marine Park' 'Aulong Island' 'Inhambe Province'\n",
      " 'Shefa Province' 'Unknown, treated at Wick, SCOTLAND' 'Pacific coast'\n",
      " 'Wake Island' '330 to 350 miles east of Wake Island' 'Salerno'\n",
      " 'Midway Atoll' 'Camiguin Island' 'Bwagaoia' 'Zambesi River'\n",
      " 'Woodlark Islands' 'Milne Bay  Province' 'Grand  Bahama Island'\n",
      " 'Turks and Caicos' 'St. Marys Parish' 'Santa Catarina State'\n",
      " 'Baie de Sainte-Marie' 'East New Britain' 'North Region' 'La Libertad'\n",
      " 'Wakaya Island' 'Madeira Islands' 'Enroute from Suez to Aden (Yemen)'\n",
      " 'Canal Zone' 'New Britain, Bismarck Archipelago' 'Corfu Island'\n",
      " 'Jakarta Harbour' 'Gulf of Panama' '150 miles offshore'\n",
      " 'Cyclades archipelago' 'Noirth Carolina' 'West Sussex'\n",
      " 'Santa Cruz Island'\n",
      " 'Peter the Great Bay, Khasan, Primorsky Krai (Far East)'\n",
      " 'Batanes Provine' 'Santa Isabel Province' 'Saint-Benoît'\n",
      " 'Alinglaplap Atoll' 'Kagoshima Prefecture' 'West Africa'\n",
      " 'Kumamoto Prefecture' 'Eronogo Region' 'North China'\n",
      " 'Split-Dalmatia County' 'Makira-Uluwa Province' 'Andaman Islands'\n",
      " 'Alpes Maritime' 'Piraeus' 'Dodecanese Islands' 'Moala Island' 'Nouville'\n",
      " 'Tuamotu Islands' 'Liaoning Province' 'Sharjah,' 'Atsumi peninsula'\n",
      " 'East Wall' 'Pagasitikos Gulf' 'Luzon' 'South Coast, East New Britain'\n",
      " 'Cook Strait' 'Madang (WO)' 'Genoa  Province' 'Barlavento Islands'\n",
      " 'Halifax' 'Off Ireland' 'Oaxaca' 'Line Islands' 'Conakry Region'\n",
      " 'St. Anne' 'Bocas del Toro Province' 'Fujairah Emirate' 'Mercury Islands'\n",
      " 'Jeju Province' 'Shanghai' 'Minerva Reef' 'Missouri' 'Namonuito Atoll'\n",
      " 'Ysabel Island' 'East Flores' '180 miles southeast of Okinawa'\n",
      " 'Izo Islands' 'Bernardino Strait near Gulf of Leyte' 'Istanbul'\n",
      " 'Turtle Bogue' 'Lagos' 'Gulf of Suez' 'Between Noumea & Sydney'\n",
      " 'Tongatapu' 'Las Perlas archipelago' 'Northern Province'\n",
      " 'Malaita Province' 'Norte' 'Suez' 'Samaná Province' 'Middle Caicos'\n",
      " 'Off Green Island' 'South China Sea 200 miles from Hong Kong'\n",
      " 'Between Beira & Maputo' 'Gibraltar' 'Taranto province'\n",
      " '25 km off the coast of Iran & 483km from mouth of Persian Gulf'\n",
      " 'Between England & South Africa' 'South Chungcheong Province'\n",
      " 'South shore' 'Port Louis Province' 'Abau Sub District, Central Province'\n",
      " 'Attica' 'Pacific Ocean' '40 miles south of Naples' '04.05N-13.23W'\n",
      " 'Cay Sal Bank' 'Carabobo' 'Ascension Bay' 'Porto Seguro' 'Cape Haitien'\n",
      " 'Ancona Province' 'Norfolk' 'CUBA' 'Ibiza Island' 'West End'\n",
      " 'Rio Grande Do Sul' 'Easter Ross' 'Kent' 'Cook islans'\n",
      " 'Surigao del Norte' 'New Mexico' 'North Pacific coast'\n",
      " 'Off the Coromandel Peninsula, North Island' 'Wake Island (EnenKio)'\n",
      " 'Queaon' '1,000 miles east of Hawaii' 'Southern Province'\n",
      " 'In transit between Tinian and Leyte' 'Off coast of Ecuador'\n",
      " 'Nicoya Peninsula' 'Viti Levu group' 'Balearics' 'Norfolk Island'\n",
      " 'Between Perth & Colombo' 'Ionian Sea' 'Cyrenaica' 'Kadavu Island Group'\n",
      " 'San Andrés archipelago' 'Batangas province' 'Southern Japan'\n",
      " \"L'Etang-Sale\" '12 miles off the north coast' 'Clearwater Bay'\n",
      " 'Los Vilos' '200 nm southeast of Manila' '9.35N 79.35W' 'Madeira'\n",
      " 'Calvados Archipelago' 'Shat-Al-Arab River' 'Bay of Fundy'\n",
      " 'Demerara County' 'Manila Bay' '300 miles east of Mauritius'\n",
      " 'San Andrés Island' 'Taveuni Island' 'Samoa' 'Raa Atoll' 'Cayman Islands'\n",
      " 'Bay of Biscay' 'Bird Island' \"South Ch'ungch'ong Province\"\n",
      " 'Kuril Islands in the Pacific' 'Baatan'\n",
      " 'Cikobia Island (north of Vanua Levu)' 'In the English Channel'\n",
      " 'St. Georges' 'Northwest of Viti Levu' 'Lomaiviti Province'\n",
      " 'Estuaire Province' 'Open sea' 'Liguaria' 'Sago Prefecture'\n",
      " 'Bandar Ma’shur sea inlet' 'Cienfuegos Province' 'Strait of Messina'\n",
      " 'Malaga' 'Vaavu Atoll' 'Boi Island, Victoria' 'Rangiroa'\n",
      " 'Central Tuamotu' 'Conservatória District' 'Rayong Province'\n",
      " 'Laucala Island' 'Gulf of Lyons' 'Johor' 'Santo Domingo'\n",
      " 'Salerno Province' 'Tel Aviv' '(Southwestern Pacific)' 'In Convoy OB 274'\n",
      " 'Quezon' 'Cortés' 'Maldonado coast' \"35º39 : 165º8'\" 'South Korea'\n",
      " 'Amirante Islands' 'Altagracia Province'\n",
      " 'Telyakovsky Bay, Khasan,  Primorsky Krai (Far East)'\n",
      " 'Territory of Cocos (Keeling) Islands' 'Sainte-Marie' 'Manfredonia'\n",
      " 'Coquimbo' 'Lomaiviti  Island Group' 'Pennsylvania' 'Western Papuan Gulf'\n",
      " 'Ratak' 'Moluccas' 'Southwest coast' 'Off Thessaly' 'Riau Province']\n",
      "location: ['Elliston' 'Yallingup, Busselton' 'Port Hedland' ...\n",
      " 'On the Thames River'\n",
      " 'Natuna Islands, between Sumatra & Kalimantan in the South China Sea'\n",
      " 'Shatt-el Arab River near a small boat stand']\n",
      "activity: ['Surfing' 'Swimming' 'Spearfishing' ... 'Shipwrecked Persian Fleet'\n",
      " 'Swimming near anchored ship'\n",
      " 'Crew swimming alongside their anchored ship']\n",
      "name: ['Simon Baccanello' 'male' 'Robbie Peck' ...\n",
      " 'Samuel Jennings, a deserter from the British frigate Milford'\n",
      " \"a ship's engineer\" 'Ahmun']\n",
      "sex: ['M' 'F' nan 'N' '.' 'M x 2' 'lli']\n",
      "age: ['46' nan '38' '25.0' '26.0' '14.0' '53.0' '16.0' '46.0' '17.0' '59.0'\n",
      " '60.0' '33.0' '9.0' '21.0' '37.0' '50.0' '6.0' '57.0' '13.0' '19.0'\n",
      " '43.0' '12.0' '31.0' '32' '10' '47' '17' '13' '20' '7' '28' '42' '25'\n",
      " '45' '30' '68' '28 & 26' '14' '8' '34' '23' '12' '19' '33' '37' '18' '31'\n",
      " '27' '49' '21' '26' '18.0' '52.0' '27.0' '35' '35.0' '5' '16' '20.0'\n",
      " '32.0' '39.0' '29.0' '47.0' '48.0' '22.0' '15.0' '43' '24.0' '36'\n",
      " '7 or 8' '60' '51' '40s' '58.0' '36.0' '7.0' '54.0' '61.0' '70.0' '23.0'\n",
      " '11.0' '74.0' '40.0' '45.0' '71' '63' '56' '48' '62' '22' '86' '59' '24'\n",
      " '54' '61' '50' '40' '15' '52' '30.0' '28.0' '42.0' '34.0' '41.0' '20s'\n",
      " '39' 'F' '8.0' '78' '56.0' '51.0' '60s' '38.0' '64.0' '29' '41' '55'\n",
      " '12 or 13' 'teen' '70' '55.0' '10.0' '53' '11' '50s' 'Teen' '9 & 60' '65'\n",
      " '3' '49.0' '69.0' '9' '20?' '66' '1.0' '10 or 12' '30s' '22, 57, 31'\n",
      " '73.0' '72.0' '63.0' '5.0' '44.0' 'middle-age' 'young' \"20's\" '58' '57'\n",
      " '(adult)' '17 & 16' '36 & 23' '2½' '44' '6' '30 & 32' '8 or 10' '9 or 10'\n",
      " '68.0' '3.0' '28, 23 & 30' '69' '33 & 26' '77' '74' 'mid-30s' '33 & 37'\n",
      " '!2' '71.0' '25 or 28' '13 or 18' '81' '62.0' '64' '65.0' '77.0'\n",
      " '?    &   14' '84.0' 'MAKE LINE GREEN' '75.0' '4' '78.0' 'A.M.' \"60's\"\n",
      " '25 to 35' '!!' '66.0' '46 & 34' '7      &    31' '33 or 37' '18 to 22'\n",
      " '50 & 30' 'X' '30 or 36' '87' '17 & 35' '4.0' 'a minor' '18 or 20'\n",
      " '32 & 30' '67' '!6' '6½' 'Elderly' '31 or 33' 'adult' '82.0' '36 & 26'\n",
      " '>50' 'M' 'Teens' '9 & 12' '45 and 15' '28 & 22' '67.0' '18 months'\n",
      " '21 & ?' '23 & 26' 'Both 11' '21 or 26' '9 months' '13 or 14']\n",
      "fatal_y_n: ['Y' 'N']\n",
      "time: ['10h10' '11h20' '11h30' nan '12h00' '16h00' '08h00' '11h45' '10h30'\n",
      " '14h00' '16h30' '06h15' 'Evening' 'Early afternoon' 'Afternoon' '18h00'\n",
      " '15h00' '10h00' '13h30' 'Morning' '15h40' '10h25' '09h00' '13h00'\n",
      " 'Sometime between 06h00 & 08hoo' '17h30' '08h45' '12h50' '18h30' '15h30'\n",
      " '14h20' '11h00' '15h44' '08h30' '07h30' '16h10' '14h35' '18h05' '12h35'\n",
      " '14h30' '17h00' '12h54' '12h45' '17h50' '08h15' '09h30' '15h35' 'Night'\n",
      " '17h15' '10h45' 'Late afternoon' '09h15' 'A.M.' '15h15' 'Early morning'\n",
      " '20h00' '07h58' '20h30' '18h45' '13h40' '14h11' '12h30' '09h57' '08h20'\n",
      " '15h19' '09h00 - 09h30' '07h15' '06h30' '06h00' '12h05' '13h45' '22h30'\n",
      " '08h50' '18h40' 'Dusk' '15h20' '07h05' '19h30' '>06h45' '16h45' '05h40'\n",
      " '14h50' '15h45' '09h30 / 15h30' 'P.M.' '21h00' '15h50' '19h00'\n",
      " 'After 04h00' '07h00' '13h50' '12h20' '09h40' '09h29' '17h01' '07h20'\n",
      " '06h45' '17h55' '11h05' '13h15' '12h10' '14h40' '15h05' '09h35' '14h45'\n",
      " '13h26' '10h35' '04h00' '15h00 or 15h45' '19h00 / 20h00' '17h10'\n",
      " '11h01 -time of ship sinking' 'Before 10h30' '09h00-10h00' '21h50'\n",
      " 'Shortly before 12h00' '1300.0' '03h30' '17h35' '12h46' '12h48' '11h50'\n",
      " '20h15' '07h40' '10h55' '08h00 / 09h30' '18h50' '12h58' '10h40' '03h00'\n",
      " '07h45' 'Midnight' '16h40' 'Lunchtime' '10h15' '13h14' '13h25' '07h10'\n",
      " 'Just before dawn' 'Midday' '14h10' '12h40' '10h50' '19h20' '11h15'\n",
      " 'After noon' 'AM' '11h10' '--' '11h40' '09h45' 'Early Morning' 'Sunset'\n",
      " '11h48' '23h00' '16h15' '21h30' '08h57' '05h30' '05h00' '-16h30' '12h15'\n",
      " '06h40' '10j30' '17h45' '15h52' '07h56' '16h35' '13h05'\n",
      " 'Just before sundown' '16h20' 'Mid morning' '09h55' 'X' '>14h30' '18h10'\n",
      " '14h15' '01h50' '13h12' '16h39' '13h20' '14h30 / 15h30' '15h25' '17h17'\n",
      " '15j45' 'Just before noon' '06h47' 'Late morning' '17h20' '13h37' '10h20'\n",
      " 'After dusk' '22h00' '11hoo' '16h21' '13h24' 'Noon' '12h33' 'Dark'\n",
      " '18h15' '13h55' '15h59' '11h55' '23h30' '05h50' '19h15' '19h45' '13h53'\n",
      " '13h345' '17h00 Sunset' '14h00 - 15h00' 'night' '16h23' 'After dark'\n",
      " '>17h30'\n",
      " 'FATAL  (Wire netting installed at local beaches after this incident.)'\n",
      " '15h57' '10h44' 'Dawn' '12h39' '16h55' 'Daytime' '15h00j'\n",
      " 'shortly before dusk' '16h25' '10jh45' '12h23' '14h00-15h00' '02h00'\n",
      " '19h28' '09h11' '14h55' '14h37' '12h34' '14h25' '10h22' '19h35'\n",
      " '18h15 to 21h30' 'Late afternon' '01h00' '11h41' '12h25' '18h20' '10h27'\n",
      " '09h20' '10h07' '07h19' 'Between 06h00 & 07h20' '2 hrs before sunset'\n",
      " 'Early evening' '07h51' '15h01' '19h05' '1600' '08h10' '13h06' '8:04 pm'\n",
      " '11h57' '10h47' '15h56' '13h51' '07h08' '02h30' '11h56' '16h05'\n",
      " '11h00 / 11h30' '11h58' '03h45 - 04h00' '16h50' 'Midday.' '11h17' '11h43'\n",
      " '07h31' '14h34' '15h53' 'After midnight' '17h40' 'Before 07h00' '11h115'\n",
      " '12h55' 'Mid afternoon' '16h30 or 18h00' '06h50' '08h58' '19h12' '07h50'\n",
      " '22h20' '19h00, Dusk' '09h50' '08h05' '12h02' '17h42' '18h30?' '15h06'\n",
      " '>12h00' '14h00  -15h00' '17h46' '17h58' '15h55' '09h05' '12h38' '11h25'\n",
      " '10h28' '18h30 (Sunset)' 'Mid-morning' '10h00 / 11h00' 'Late night'\n",
      " '1500.0' 'Early  morning' '08h40' '9h00' 'Just before 11h00'\n",
      " '17h00 or 17h40' '09h00 -10h00' '20h45 (Sunset)' '15h49' '18h25' '11h51'\n",
      " '13h35' '10h00 or 14h00' '19h10' '07h53' '13h19' '17h34' '09h30 / 10h00'\n",
      " '17h51' '07h00 - 08h00' '14h21' '>08h00' '13h23' 'Just after 12h00'\n",
      " '08h35' '08h55' '07h07' '1415.0' '06h55' '10h16' '10h00 -- 11h00' '16h14'\n",
      " '11h53' 'Before 10h00' '10h43' '05h45' 'Shortly before 13h00'\n",
      " 'After Dusk' '2 hours after Opperman' '01h30' '19h00-20h00' '11h46'\n",
      " '13h42' '18h15-18h30' '0830' '17h11' '14h16' 'Prior to 10h37' 'Daybreak'\n",
      " '0500' '11h06' '18h12' 'Nightfall' '10h30 or 13h30' 'Late Afternoon'\n",
      " '09h36' '14h33' '10h45-11h15' '16h12' '06h10' 'Shortly after midnight'\n",
      " '<07h30' 'Before daybreak' '06h00 -- 07h00' '14h09' '11h24' '08h56'\n",
      " '06j00' '12h45 / 13h45' 'Ship aban-doned at 03h10' '19h55' '`17h00'\n",
      " '08h48' '16h26' '30 minutes after 1992.07.08.a' '17h00-18h00']\n",
      "species: ['White shark' '1m shark' 'Bull shark' ... '100-lb shark'\n",
      " \"Blue shark, 8' [2.4 m], 500-lb\" \"Said to be a 7.6 m [25'] shark\"]\n"
     ]
    }
   ],
   "source": [
    "for column in data.columns:\n",
    "  if data[column].dtype == type(object):\n",
    "    print(f\"{column}: {data[column].unique()}\")"
   ]
  },
  {
   "cell_type": "markdown",
   "id": "71e7c31b-94a3-4e1b-89a7-b152051d530d",
   "metadata": {},
   "source": [
    "As we can see in our features, the <i>date</i> and <i>year</i> columns represent the same information and are duplicates, so for the first step, we remove the <i>date</i> column and replace null values in the <i>year</i> column with the average of the years. This dataset is messy, and we need to take a specific action for each column."
   ]
  },
  {
   "cell_type": "code",
   "execution_count": 43,
   "id": "044b3d30-5e49-439e-a9c9-afc4fc9d9d85",
   "metadata": {},
   "outputs": [],
   "source": [
    "if 'date' in data.columns:\n",
    "    data = data.drop(columns=['date'])\n",
    "data['year'] = data['year'].fillna(round(data['year'].mean()))"
   ]
  },
  {
   "cell_type": "markdown",
   "id": "bfa4e93d-cd90-4cce-bee8-bcafcc45cb67",
   "metadata": {},
   "source": [
    "Now for the next step let's focus on <i>type</i> column."
   ]
  },
  {
   "cell_type": "code",
   "execution_count": 45,
   "id": "307a580f-4093-4ad6-b623-c0fb5f6813e7",
   "metadata": {},
   "outputs": [
    {
     "data": {
      "text/plain": [
       "type\n",
       "Unprovoked             4991\n",
       "Provoked                623\n",
       "Watercraft              340\n",
       "Sea Disaster            237\n",
       "Invalid                  25\n",
       "Questionable             16\n",
       "Boat                      7\n",
       "Unverified                1\n",
       "?                         1\n",
       "Under investigation       1\n",
       "Name: count, dtype: int64"
      ]
     },
     "execution_count": 45,
     "metadata": {},
     "output_type": "execute_result"
    }
   ],
   "source": [
    "data['type'].value_counts()"
   ]
  },
  {
   "cell_type": "code",
   "execution_count": 51,
   "id": "4c1bee49-8739-4f5e-aefa-a364409bfa2a",
   "metadata": {},
   "outputs": [],
   "source": [
    "data['type'] = data['type'].replace('?', None)\n",
    "data = data.dropna(subset=['type'])"
   ]
  },
  {
   "cell_type": "markdown",
   "id": "b208f62b-b914-4f63-aa42-d899aa0feb9e",
   "metadata": {},
   "source": [
    "Now, for the <i>country, area, location</i> columns, we first remove the location column because, after checking its values, it seems mostly nonsensical and useless. Next, we remove any row where both country and area are None at the same time. Later, I will convert the combination of area and country into latitude and longitude since that will give us more useful information."
   ]
  },
  {
   "cell_type": "code",
   "execution_count": 60,
   "id": "7d9f2e25-9379-4e02-a297-0c3aabe8e69e",
   "metadata": {},
   "outputs": [],
   "source": [
    "if 'location' in data.columns:\n",
    "    data = data.drop(columns=['location'])\n",
    "data = data.dropna(subset=['area', 'country'], how='all')"
   ]
  },
  {
   "cell_type": "code",
   "execution_count": 81,
   "id": "f2050144-4691-4e7d-b761-4b1c1db0e6a0",
   "metadata": {},
   "outputs": [
    {
     "data": {
      "application/vnd.jupyter.widget-view+json": {
       "model_id": "d06222c0c7f14f2bba2a559e39cab5ee",
       "version_major": 2,
       "version_minor": 0
      },
      "text/plain": [
       "  0%|          | 0/6212 [00:00<?, ?it/s]"
      ]
     },
     "metadata": {},
     "output_type": "display_data"
    }
   ],
   "source": [
    "geolocator = Nominatim(user_agent=\"geo_converter\")\n",
    "def get_latitude_longitude(area, country):\n",
    "    try:\n",
    "        location = geolocator.geocode(f\"{area}, {country}\")\n",
    "        time.sleep(0.75)\n",
    "        if location:\n",
    "            return pd.Series([location.latitude, location.longitude])\n",
    "    except GeocoderTimedOut:\n",
    "        return pd.Series([None, None])\n",
    "    return pd.Series([None, None])\n",
    "\n",
    "tqdm.pandas()\n",
    "data[['latitude', 'longitude']] = data.progress_apply(lambda x: get_latitude_longitude(x['area'], x['country']), axis=1)"
   ]
  },
  {
   "cell_type": "markdown",
   "id": "c08628f9-a4ef-4b99-9f38-81b9f9aaebfa",
   "metadata": {},
   "source": [
    "As we can see, the above method takes almost two hours to complete. In order not to wait, I commited the outcome and comitted alongside the jupyter notebook into Github repository. The dataframe can be loaded into data using the following command."
   ]
  },
  {
   "cell_type": "code",
   "execution_count": 83,
   "id": "6a6165c7-9fb5-4ed2-a47b-c8c56df5b036",
   "metadata": {},
   "outputs": [],
   "source": [
    "data = pd.read_csv('shark_attacks_lat_long.csv')"
   ]
  },
  {
   "cell_type": "code",
   "execution_count": 85,
   "id": "9954e0b2-ed4b-4132-bebf-f9ede5372de6",
   "metadata": {},
   "outputs": [],
   "source": [
    "if 'area' in data.columns:\n",
    "     data = data.drop(columns=['area'])\n",
    "if 'country' in data.columns:\n",
    "     data = data.drop(columns=['country'])"
   ]
  },
  {
   "cell_type": "markdown",
   "id": "8f2faffa-3b9e-45b4-a495-6aa70b221874",
   "metadata": {},
   "source": [
    "Now it is time to take a look at <i>latitude</i> and <i>longitude</i> columns, since some of the might be null due to not finding location using geopy API. So we remove rows which there are not any coordinate for them."
   ]
  },
  {
   "cell_type": "code",
   "execution_count": 91,
   "id": "cb797d41-2a3a-4062-b29d-e84cdcf9db03",
   "metadata": {},
   "outputs": [],
   "source": [
    "data = data.dropna(subset=['latitude', 'longitude'], how='all')"
   ]
  },
  {
   "cell_type": "markdown",
   "id": "4754d18a-1775-46a5-ae84-7b405b3cf0c7",
   "metadata": {},
   "source": [
    "For <i>activity</i> column first we will check the distribution over different values, and we will notice the are some rare values. we will use RareLabelEncoder to convert infrequent values into 'Other'. "
   ]
  },
  {
   "cell_type": "code",
   "execution_count": 105,
   "id": "18aad0e0-95c6-4251-9d9c-fc38a1528ce6",
   "metadata": {},
   "outputs": [
    {
     "data": {
      "text/plain": [
       "activity\n",
       "Surfing                                                      1053\n",
       "Swimming                                                      844\n",
       "Fishing                                                       439\n",
       "Other                                                         380\n",
       "Spearfishing                                                  320\n",
       "                                                             ... \n",
       "Surfing (or sailboarding)                                       1\n",
       "Surfing & dangling foot in water amid baitfish                  1\n",
       "Inspecting teeth of supposedly dead (hooked & shot) shark       1\n",
       "Free diving, collecting shells                                  1\n",
       "Crew swimming alongside their anchored ship                     1\n",
       "Name: count, Length: 1242, dtype: int64"
      ]
     },
     "execution_count": 105,
     "metadata": {},
     "output_type": "execute_result"
    }
   ],
   "source": [
    "data['activity'].value_counts()"
   ]
  },
  {
   "cell_type": "code",
   "execution_count": 115,
   "id": "45db5850-094c-4a00-8dc4-a8a1ad5b94b9",
   "metadata": {},
   "outputs": [],
   "source": [
    "data['activity'] = data['activity'].fillna('Other')\n",
    "rare_encoder = RareLabelEncoder(n_categories=1, max_n_categories=50, replace_with='Other', tol=10/data.shape[0])\n",
    "data['activity'] = rare_encoder.fit_transform(data[['activity']])"
   ]
  },
  {
   "cell_type": "markdown",
   "id": "f882b8f6-9323-4cd2-9691-3d68607ed7f8",
   "metadata": {},
   "source": [
    "For the next step the <i>name</i> column does not have information, because it is the name of person, so we can remove the entire column."
   ]
  },
  {
   "cell_type": "code",
   "execution_count": 117,
   "id": "71af3a2e-a15f-4979-ac8a-0cc55e3bf8a8",
   "metadata": {},
   "outputs": [],
   "source": [
    "data = data.drop(columns=['name'])"
   ]
  },
  {
   "cell_type": "markdown",
   "id": "f9b69b42-1e7f-4845-94e4-517c0515a732",
   "metadata": {},
   "source": [
    "Now, we check the <i>sex</i> column. We remove the columns which do not make sense and only keep 'M' and 'F'."
   ]
  },
  {
   "cell_type": "code",
   "execution_count": 119,
   "id": "dae1cf6b-8f9c-4b41-9695-038ddfd71463",
   "metadata": {},
   "outputs": [
    {
     "data": {
      "text/plain": [
       "sex\n",
       "M        4678\n",
       "F         655\n",
       "N           1\n",
       ".           1\n",
       "M x 2       1\n",
       "lli         1\n",
       "Name: count, dtype: int64"
      ]
     },
     "execution_count": 119,
     "metadata": {},
     "output_type": "execute_result"
    }
   ],
   "source": [
    "data['sex'].value_counts()"
   ]
  },
  {
   "cell_type": "code",
   "execution_count": 120,
   "id": "af724617-4f3c-4aa7-94fe-e74641278d6a",
   "metadata": {},
   "outputs": [],
   "source": [
    "data = data[data['sex'].isin(['M', 'F'])]"
   ]
  },
  {
   "cell_type": "markdown",
   "id": "fbdc6ffc-bfd7-4174-a43a-37efead4d2c7",
   "metadata": {},
   "source": [
    "For time column, when we look into values, we can see that there are different times, but most of them are in 'hhhmm' format. I decided to apply regex on the time column and change it two categorical variables with these values: ['Morning', 'Noon', 'Evening', 'Night'] and change the rest of the to 'Other'."
   ]
  },
  {
   "cell_type": "code",
   "execution_count": 126,
   "id": "8a0d21d8-9d63-40ad-b364-a79541e5b218",
   "metadata": {},
   "outputs": [],
   "source": [
    "def categorize_time(value):\n",
    "    match = re.match(r'(\\d{1,2})h(\\d{2})?', str(value))\n",
    "    if match:\n",
    "        hour = int(match.group(1))\n",
    "        if 5 <= hour < 12:\n",
    "            return \"Morning\"\n",
    "        elif 12 <= hour < 17:\n",
    "            return \"Noon\"\n",
    "        elif 17 <= hour < 21:\n",
    "            return \"Evening\"\n",
    "        else:\n",
    "            return \"Night\"\n",
    "    else:\n",
    "        return \"Other\" \n",
    "data['time'] = data['time'].apply(categorize_time)"
   ]
  },
  {
   "cell_type": "markdown",
   "id": "393c87dd-0972-4711-a1b2-3c005022caec",
   "metadata": {},
   "source": [
    "For the <i>species</i> column again we will use RareLabelEncoder to encode infrequent values into 'Other'"
   ]
  },
  {
   "cell_type": "code",
   "execution_count": 132,
   "id": "e127a9a3-18b2-47c2-af5f-42e5f0c0523a",
   "metadata": {},
   "outputs": [
    {
     "data": {
      "text/plain": [
       "species\n",
       "White shark                       149\n",
       "Tiger shark                        74\n",
       "Bull shark                         62\n",
       "4' shark                           42\n",
       "6' shark                           42\n",
       "                                 ... \n",
       "1.5 m [5'] hammerhead shark         1\n",
       "Sevengill shark, 2.4 m              1\n",
       "White shark, 5 m                    1\n",
       "1.8 m [6'] grey reef shark          1\n",
       "Said to be a 7.6 m [25'] shark      1\n",
       "Name: count, Length: 1328, dtype: int64"
      ]
     },
     "execution_count": 132,
     "metadata": {},
     "output_type": "execute_result"
    }
   ],
   "source": [
    "data['species'].value_counts()"
   ]
  },
  {
   "cell_type": "code",
   "execution_count": 137,
   "id": "647cc73a-a65f-4e06-90ed-d73140f964f3",
   "metadata": {},
   "outputs": [],
   "source": [
    "data['species'] = data['species'].fillna('Other')\n",
    "rare_encoder = RareLabelEncoder(n_categories=1, max_n_categories=50, replace_with='Other', tol=25/data.shape[0])\n",
    "data['species'] = rare_encoder.fit_transform(data[['species']])"
   ]
  },
  {
   "cell_type": "code",
   "execution_count": 143,
   "id": "c0e18350-892a-477c-bd28-a6aad6926069",
   "metadata": {},
   "outputs": [
    {
     "data": {
      "text/plain": [
       "species\n",
       "Other               4771\n",
       "White shark          149\n",
       "Tiger shark           74\n",
       "Bull shark            62\n",
       "6' shark              42\n",
       "4' shark              42\n",
       "1.8 m [6'] shark      34\n",
       "1.5 m [5'] shark      29\n",
       "3' shark              27\n",
       "Wobbegong shark       26\n",
       "4' to 5' shark        26\n",
       "1.2 m [4'] shark      26\n",
       "5' shark              25\n",
       "Name: count, dtype: int64"
      ]
     },
     "execution_count": 143,
     "metadata": {},
     "output_type": "execute_result"
    }
   ],
   "source": [
    "data['species'].value_counts()"
   ]
  },
  {
   "cell_type": "markdown",
   "id": "65221ab9-75df-40b8-bb80-1384da8aaf09",
   "metadata": {},
   "source": [
    "For the last feature age, since originally this column should be of type int, but it is object and there are lots of null values, I decided to classify ages that have int type and others that is nonsense to 'Others'."
   ]
  },
  {
   "cell_type": "code",
   "execution_count": 144,
   "id": "5da5f933-e90c-4045-a253-bf23c6f54682",
   "metadata": {},
   "outputs": [],
   "source": [
    "def classify_age(age):\n",
    "    if pd.isna(age):\n",
    "        return 'Others'\n",
    "    elif age <= 12:\n",
    "        return 'Child'\n",
    "    elif age <= 19:\n",
    "        return 'Teenager'\n",
    "    elif age <= 35:\n",
    "        return 'Young Adult'\n",
    "    elif age <= 55:\n",
    "        return 'Middle-aged Adult'\n",
    "    else:\n",
    "        return 'Senior'\n",
    "data['age'] = pd.to_numeric(data['age'], errors='coerce')\n",
    "data['age'] = data['age'].apply(classify_age)"
   ]
  },
  {
   "cell_type": "markdown",
   "id": "42759393-2aa5-4915-960b-ab6217781205",
   "metadata": {},
   "source": [
    "Now that we cleaned all of our features, it is time to again check the <i>missingno</i> plot, and save our cleaned dataframe."
   ]
  },
  {
   "cell_type": "code",
   "execution_count": 146,
   "id": "0cf1eaad-06a3-4ac6-bf11-f79baa81be12",
   "metadata": {},
   "outputs": [
    {
     "data": {
      "text/plain": [
       "<Axes: >"
      ]
     },
     "execution_count": 146,
     "metadata": {},
     "output_type": "execute_result"
    },
    {
     "data": {
      "image/png": "[encoded data removed]",
      "text/plain": [
       "<Figure size 2500x1000 with 2 Axes>"
      ]
     },
     "metadata": {},
     "output_type": "display_data"
    }
   ],
   "source": [
    "%matplotlib inline\n",
    "msno.matrix(data)"
   ]
  },
  {
   "cell_type": "markdown",
   "id": "a2ad45a1-144a-49d5-b6c3-61cb1cb143f2",
   "metadata": {},
   "source": [
    "As the above image shows us, now we have clean and none null values in our features. The original length of our data was 6890 and after cleaning is 5333 so we had to ignore 1557 rows."
   ]
  },
  {
   "cell_type": "code",
   "execution_count": 147,
   "id": "9a042b38-b7ab-4cc8-ac86-c9d77f082279",
   "metadata": {},
   "outputs": [],
   "source": [
    "data.to_csv('shark_attacks_clean.csv')"
   ]
  },
  {
   "cell_type": "code",
   "execution_count": null,
   "id": "0f619638-563b-4f43-8a89-51ef3e89945a",
   "metadata": {},
   "outputs": [],
   "source": []
  }
 ],
 "metadata": {
  "kernelspec": {
   "display_name": "Python 3 (ipykernel)",
   "language": "python",
   "name": "python3"
  },
  "language_info": {
   "codemirror_mode": {
    "name": "ipython",
    "version": 3
   },
   "file_extension": ".py",
   "mimetype": "text/x-python",
   "name": "python",
   "nbconvert_exporter": "python",
   "pygments_lexer": "ipython3",
   "version": "3.13.0"
  }
 },
 "nbformat": 4,
 "nbformat_minor": 5
}
